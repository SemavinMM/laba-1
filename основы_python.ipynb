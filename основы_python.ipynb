{
  "cells": [
    {
      "cell_type": "markdown",
      "metadata": {
        "id": "M-DGa20PaHnu"
      },
      "source": [
        "# Задача 1\n",
        "Написать функцию на вход которой подается строка, состоящая из латинских букв.\n",
        "Функция должна вернуть количество гласных букв (a, e, i, o, u) в этой строке. Написать тесты для кода"
      ]
    },
    {
      "cell_type": "code",
      "execution_count": 7,
      "metadata": {
        "id": "XvX8X_JJ6PCb"
      },
      "outputs": [
        {
          "name": "stdout",
          "output_type": "stream",
          "text": [
            "3\n",
            "2\n",
            "3\n"
          ]
        }
      ],
      "source": [
        "# Your code goes here\n",
        "def glasnie(text):\n",
        "    letters = \"aeiouAEIOU\"\n",
        "    count = 0\n",
        "    for i in text:\n",
        "        if i in letters:\n",
        "            count += 1\n",
        "    return count\n",
        "print(glasnie(\"Hello world\"))\n",
        "print(glasnie(\"cool\"))\n",
        "print(glasnie(\"Mikhail\"))"
      ]
    },
    {
      "cell_type": "markdown",
      "metadata": {
        "id": "t2ClV_Y0bbr6"
      },
      "source": [
        "# Задача 2\n",
        "Написать функцию на вход, которой подается строка. Функция должна вернуть true, если\n",
        "каждый символ в строке встречается только 1 раз, иначе должна вернуть false. Написать тесты для кода"
      ]
    },
    {
      "cell_type": "code",
      "execution_count": 6,
      "metadata": {
        "id": "FppbECao6VIz"
      },
      "outputs": [
        {
          "name": "stdout",
          "output_type": "stream",
          "text": [
            "False\n",
            "True\n",
            "False\n"
          ]
        }
      ],
      "source": [
        "# Your code goes here\n",
        "def unic_letters(string):\n",
        "    sort_string = sorted(string)\n",
        "    for i in range (1, len(sort_string)):\n",
        "        if sort_string[i] == sort_string[i-1]:\n",
        "            return False\n",
        "    return True\n",
        "print(unic_letters(\"Hello World\"))\n",
        "print(unic_letters(\"car\"))\n",
        "print(unic_letters(\"rtf toop\"))"
      ]
    },
    {
      "cell_type": "markdown",
      "metadata": {
        "id": "udRiIK1cdt6E"
      },
      "source": [
        "# Задача 3\n",
        "Написать функцию, которая принимает положительное число и возвращает количество\n",
        "бит равных 1 в этом числе. Написать тесты для кода"
      ]
    },
    {
      "cell_type": "code",
      "execution_count": 10,
      "metadata": {
        "id": "6tkfDJRz6dp_"
      },
      "outputs": [
        {
          "name": "stdout",
          "output_type": "stream",
          "text": [
            "2\n",
            "2\n",
            "4\n"
          ]
        }
      ],
      "source": [
        "# Your code goes here\n",
        "def count_bit(n):\n",
        "    count = 0\n",
        "    while n > 0:\n",
        "        if n & 1:\n",
        "            count += 1\n",
        "        n >>= 1\n",
        "    return count\n",
        "print(count_bit(5))\n",
        "print(count_bit(10))\n",
        "print(count_bit(15))"
      ]
    },
    {
      "cell_type": "markdown",
      "metadata": {
        "id": "26dDUz-Ae17N"
      },
      "source": [
        "# Задача 4\n",
        "Написать функцию, которая принимает положительное число. Функция должна вернуть то,\n",
        "сколько раз необходимо перемножать цифры числа или результат перемножения, чтобы\n",
        "получилось число состоящее из одной цифры.\n",
        "Например, для входного числа:\n",
        "· 39 функция должна вернуть 3, так как 3*9=27 => 2*7=14 => 1*4=4\n",
        "· 4 функция должна вернуть 0, так как число уже состоит из одной цифры\n",
        "· 999 функция должна вернуть 4, так как 9*9*9=729 => 7*2*9=126 => 1*2*6=12 =>\n",
        "1*2=2. Написать тесты для кода"
      ]
    },
    {
      "cell_type": "code",
      "execution_count": null,
      "metadata": {
        "id": "BH1A_Mgi6i4G"
      },
      "outputs": [
        {
          "name": "stdout",
          "output_type": "stream",
          "text": [
            "4\n",
            "3\n"
          ]
        }
      ],
      "source": [
        "def magic(n):\n",
        "    # Your code goes here\n",
        "    count = 0\n",
        "    current = n\n",
        "    if n < 10:\n",
        "        return 0\n",
        "    while current >= 10:\n",
        "        p = 1\n",
        "        for d in str(current):\n",
        "            p *= int(d)\n",
        "\n",
        "        current = p\n",
        "        count += 1\n",
        "    return count\n",
        "\n",
        "print(magic(999))\n",
        "print(magic(39))\n",
        "print(magic(666))"
      ]
    },
    {
      "cell_type": "markdown",
      "metadata": {
        "id": "0nS-kIa8g8vd"
      },
      "source": [
        "# Задача 5\n",
        "Написать функцию, которая принимает два целочисленных вектора одинаковой длины и\n",
        "возвращает среднеквадратическое отклонение двух векторов. Написать тесты для кода"
      ]
    },
    {
      "cell_type": "code",
      "execution_count": 24,
      "metadata": {
        "id": "8iphx4LM6xbx"
      },
      "outputs": [
        {
          "name": "stdout",
          "output_type": "stream",
          "text": [
            "0.0\n",
            "4.0\n"
          ]
        }
      ],
      "source": [
        "def mse(pred, true):\n",
        "    # Your code goes here\n",
        "    return sum((p - t) ** 2 for p, t in zip(pred, true)) / len(pred)\n",
        "print(mse([1, 2 , 3], [1, 2, 3]))\n",
        "print(mse([1, 2], [3, 4]))"
      ]
    },
    {
      "cell_type": "markdown",
      "metadata": {
        "id": "vpIPKL439zkw"
      },
      "source": [
        "# Задача 6\n",
        "Написать функцию, принимающая целое положительное число. Функция должна вернуть\n",
        "строку вида “(n1**p1)(n2**p2)…(nk**pk)” представляющая разложение числа на простые\n",
        "множители (если pi == 1, то выводить только ni).\n",
        "Например, для числа 86240 функция должна вернуть “(2**5)(5)(7**2)(11)”. Написать тесты для кода"
      ]
    },
    {
      "cell_type": "code",
      "execution_count": 12,
      "metadata": {
        "id": "pFebmcZk94Jw"
      },
      "outputs": [
        {
          "name": "stdout",
          "output_type": "stream",
          "text": [
            "(2**5)(5)(7**2)(11)\n",
            "(2**2)(5**2)\n",
            "1\n",
            "(17)\n"
          ]
        }
      ],
      "source": [
        "# Your code goes here\n",
        "def is_prime(n):\n",
        "    if n <= 1:\n",
        "        return str(n)\n",
        "    \n",
        "    factors = {}\n",
        "    d = 2\n",
        "    while d * d <= n:\n",
        "        while n % d == 0:\n",
        "            factors[d] = factors.get(d, 0) + 1\n",
        "            n //= d\n",
        "        d += 1\n",
        "    \n",
        "    if n > 1:\n",
        "        factors[n] = factors.get(n, 0) + 1\n",
        "    \n",
        "    # Формируем строку результата\n",
        "    results = []\n",
        "    for i in sorted(factors.keys()):\n",
        "        power = factors[i]\n",
        "        if power == 1:\n",
        "            results.append(f\"({i})\")\n",
        "        else:\n",
        "            results.append(f\"({i}**{power})\")\n",
        "    \n",
        "    return ''.join(results)\n",
        "\n",
        "print(is_prime(86240))\n",
        "print(is_prime(100))\n",
        "print(is_prime(1))\n",
        "print(is_prime(17))"
      ]
    },
    {
      "cell_type": "markdown",
      "metadata": {
        "id": "ps2s0BudX7A2"
      },
      "source": [
        "# Задача 7\n",
        "Написать функцию, принимающая целое число n, задающее количество кубиков. Функция\n",
        "должна определить, можно ли из данного кол-ва кубиков построить пирамиду, то есть\n",
        "можно ли представить число n как 1^2+2^2+3^2+…+k^2. Если можно, то функция должна\n",
        "вернуть k, иначе строку “It is impossible”. Написать тесты для кода"
      ]
    },
    {
      "cell_type": "code",
      "execution_count": 13,
      "metadata": {
        "id": "3YPjEXxhX_YT"
      },
      "outputs": [
        {
          "name": "stdout",
          "output_type": "stream",
          "text": [
            "3\n",
            "4\n",
            "It is impossible\n"
          ]
        }
      ],
      "source": [
        "def pyramid(number):\n",
        "    # Your code goes here\n",
        "    if number <= 0:\n",
        "        return \"It is impossible\"\n",
        "    k = 1\n",
        "    while True:\n",
        "        total = k * (k + 1) * (2*k + 1) // 6\n",
        "        if total == number:\n",
        "            return k\n",
        "        elif total > number:\n",
        "            return \"It is impossible\"\n",
        "        k += 1\n",
        "\n",
        "print(pyramid(14))\n",
        "print(pyramid(30))\n",
        "print(pyramid(7))\n"
      ]
    },
    {
      "cell_type": "markdown",
      "metadata": {
        "id": "KeKgmIdAQMEJ"
      },
      "source": [
        "# Задача 8\n",
        "Функция принимает на вход положительное число и определяет является ли оно сбалансированным, т.е. сумма цифр до средних равна сумме цифр после. Средними в случае нечетного числа цифр считать одну цифру, в случае четного - две средних. Написать тесты для кода"
      ]
    },
    {
      "cell_type": "code",
      "execution_count": 16,
      "metadata": {
        "id": "gMAAqtqlQrZt"
      },
      "outputs": [
        {
          "name": "stdout",
          "output_type": "stream",
          "text": [
            "True\n",
            "False\n",
            "True\n"
          ]
        }
      ],
      "source": [
        "# Your code goes here   \n",
        "def balanced_num(n):\n",
        "    d = str(n)\n",
        "    lenght = len(d)\n",
        "\n",
        "    if lenght == 1:\n",
        "        return True\n",
        "    if lenght % 2 == 1: #нечётная\n",
        "        mid = lenght // 2\n",
        "        left_sum = sum(int(i) for i in d [:mid])\n",
        "        right_sum = sum(int(i) for i in d[mid + 1:])\n",
        "    else:\n",
        "        mid = lenght // 2\n",
        "        left_sum = sum(int(i) for i in d [:mid - 1])\n",
        "        right_sum = sum(int(i) for i in d[mid + 1:])\n",
        "        \n",
        "    return left_sum == right_sum\n",
        "\n",
        "print(balanced_num(121))\n",
        "print(balanced_num(1234))\n",
        "print(balanced_num(123321))"
      ]
    }
  ],
  "metadata": {
    "colab": {
      "provenance": []
    },
    "kernelspec": {
      "display_name": "Python 3",
      "name": "python3"
    },
    "language_info": {
      "codemirror_mode": {
        "name": "ipython",
        "version": 3
      },
      "file_extension": ".py",
      "mimetype": "text/x-python",
      "name": "python",
      "nbconvert_exporter": "python",
      "pygments_lexer": "ipython3",
      "version": "3.13.7"
    }
  },
  "nbformat": 4,
  "nbformat_minor": 0
}
